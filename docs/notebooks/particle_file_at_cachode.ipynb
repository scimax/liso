{
 "cells": [
  {
   "cell_type": "code",
   "execution_count": null,
   "metadata": {},
   "outputs": [],
   "source": [
    "try:\n",
    "    import matplotlib.pyplot as plt\n",
    "except ModuleNotFoundError:\n",
    "    !pip install matplotlib\n",
    "\n",
    "%matplotlib inline    \n",
    "    \n",
    "from liso import parse_astra_phasespace\n",
    "from liso.simulation import ParticleFileGenerator\n",
    "from liso.visualization import PhasespacePlot"
   ]
  },
  {
   "cell_type": "markdown",
   "metadata": {},
   "source": [
    "### Astra generated"
   ]
  },
  {
   "cell_type": "code",
   "execution_count": null,
   "metadata": {},
   "outputs": [],
   "source": [
    "!ls"
   ]
  },
  {
   "cell_type": "code",
   "execution_count": null,
   "metadata": {},
   "outputs": [],
   "source": [
    "astra_data, astra_charge = parse_astra_phasespace(\"cathG_100k.ini\", cathode=True)\n",
    "astra_data.columns, astra_data.size"
   ]
  },
  {
   "cell_type": "code",
   "execution_count": null,
   "metadata": {},
   "outputs": [],
   "source": [
    "fig, ax = plt.subplots(2, 2, figsize=(12, 12))\n",
    "plt.subplots_adjust(bottom=0.1, top=0.9, left=0.1, right=0.9, hspace=0.3, wspace=0.4)\n",
    "\n",
    "ps_astra = PhasespacePlot(astra_data, astra_charge)\n",
    "ps_astra.scatter('x', 'y', alpha=0.5, ax=ax[0, 0])\n",
    "ps_astra.scatter('x', 'xp', alpha=0.5, ylim=(-5000, 5000), ax=ax[0, 1])\n",
    "ps_astra.scatter('y', 'yp', alpha=0.5, ylim=(-5000, 5000), ax=ax[1, 0])\n",
    "ps_astra.current(x_unit='ps', y_unit='kA', ax=ax[1, 1])"
   ]
  },
  {
   "cell_type": "markdown",
   "metadata": {},
   "source": [
    "### Liso generated"
   ]
  },
  {
   "cell_type": "code",
   "execution_count": null,
   "metadata": {},
   "outputs": [],
   "source": [
    "n = 100000\n",
    "charge = 1e-9\n",
    "gen = ParticleFileGenerator(n, charge, cathode=True, seed=42,\n",
    "                            dist_x='uniform', sig_x=1e-3,\n",
    "                            dist_z='gaussian', sig_z=1e-12,\n",
    "                            ek=0.55)\n",
    "\n",
    "gen.toAstra(\"particle.csv\")"
   ]
  },
  {
   "cell_type": "code",
   "execution_count": null,
   "metadata": {},
   "outputs": [],
   "source": [
    "data, charge = parse_astra_phasespace(\"particle.csv\", cathode=True)\n",
    "data.columns, data.size"
   ]
  },
  {
   "cell_type": "code",
   "execution_count": null,
   "metadata": {},
   "outputs": [],
   "source": [
    "fig, ax = plt.subplots(2, 2, figsize=(12, 12))\n",
    "plt.subplots_adjust(bottom=0.1, top=0.9, left=0.1, right=0.9, hspace=0.3, wspace=0.4)\n",
    "\n",
    "ps = PhasespacePlot(data, charge)\n",
    "ps.scatter('x', 'y', alpha=0.5, ax=ax[0, 0])\n",
    "ps.scatter('x', 'xp', alpha=0.5, ylim=(-5000, 5000), ax=ax[0, 1])\n",
    "ps.scatter('y', 'yp', alpha=0.5, ylim=(-5000, 5000), ax=ax[1, 0])\n",
    "ps_astra.current(x_unit='ps', y_unit='kA', ax=ax[1, 1])"
   ]
  },
  {
   "cell_type": "code",
   "execution_count": null,
   "metadata": {},
   "outputs": [],
   "source": []
  }
 ],
 "metadata": {
  "kernelspec": {
   "display_name": "liso",
   "language": "python",
   "name": "liso"
  },
  "language_info": {
   "codemirror_mode": {
    "name": "ipython",
    "version": 3
   },
   "file_extension": ".py",
   "mimetype": "text/x-python",
   "name": "python",
   "nbconvert_exporter": "python",
   "pygments_lexer": "ipython3",
   "version": "3.6.10"
  }
 },
 "nbformat": 4,
 "nbformat_minor": 4
}
