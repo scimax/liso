{
 "cells": [
  {
   "cell_type": "code",
   "execution_count": null,
   "metadata": {},
   "outputs": [],
   "source": [
    "import os.path as osp\n",
    "try:\n",
    "    import matplotlib.pyplot as plt\n",
    "except ModuleNotFoundError:\n",
    "    !pip install matplotlib\n",
    "\n",
    "%matplotlib inline    \n",
    "import numpy as np\n",
    "\n",
    "from liso import parse_astra_phasespace, parse_astra_line, pixel_phasespace\n",
    "from liso.visualization import LinePlot, PhasespacePlot\n",
    "\n",
    "DATA_FOLDER = \"../../liso/data_processing/tests/astra_output\""
   ]
  },
  {
   "cell_type": "code",
   "execution_count": null,
   "metadata": {},
   "outputs": [],
   "source": [
    "data = parse_astra_phasespace(osp.join(DATA_FOLDER, \"astra.out\"))"
   ]
  },
  {
   "cell_type": "code",
   "execution_count": null,
   "metadata": {},
   "outputs": [],
   "source": [
    "fig, ax = plt.subplots(2, 2, figsize=(12, 12))\n",
    "plt.subplots_adjust(bottom=0.1, top=0.9, left=0.1, right=0.9, hspace=0.3, wspace=0.3)\n",
    "\n",
    "ps = PhasespacePlot(data)\n",
    "ps.scatter('x', 'y', ax=ax[0, 0])\n",
    "ps.scatter('x', 'xp', ax=ax[0, 1])\n",
    "ps.scatter('y', 'yp', ax=ax[1, 0])\n",
    "ps.scatter('dt', 'delta', x_unit='ps', ax=ax[1, 1])"
   ]
  },
  {
   "cell_type": "code",
   "execution_count": null,
   "metadata": {},
   "outputs": [],
   "source": [
    "PhasespacePlot.imshow(data['t'], data['pz'], n_bins=50, normalize=True)"
   ]
  },
  {
   "cell_type": "code",
   "execution_count": null,
   "metadata": {},
   "outputs": [],
   "source": [
    "ps = PhasespacePlot(data)\n",
    "ps.cloud('dt', 'delta')"
   ]
  },
  {
   "cell_type": "code",
   "execution_count": null,
   "metadata": {},
   "outputs": [],
   "source": [
    "line = parse_astra_line(osp.join(DATA_FOLDER, \"injector\"))"
   ]
  },
  {
   "cell_type": "code",
   "execution_count": null,
   "metadata": {},
   "outputs": [],
   "source": [
    "lp = LinePlot(line, figsize=(16, 4))\n",
    "lp.plot('gamma')\n",
    "\n",
    "fig, ax = plt.subplots(4, 2, figsize=(16, 16))\n",
    "plt.subplots_adjust(bottom=0.1, top=0.9, left=0.1, right=0.9, hspace=0.30, wspace=0.25)\n",
    "lp.plot('Sz', ax=ax[0, 0])\n",
    "lp.plot('St', ax=ax[0, 1])\n",
    "lp.plot('Sde', ax=ax[1, 0])\n",
    "lp.plot('Sx', 'Sy', ax=ax[1, 1])\n",
    "lp.plot('betax', 'betay', ax=ax[2, 0])\n",
    "lp.plot('alphax', 'alphay', ax=ax[2, 1])\n",
    "lp.plot('emitx', 'emity', ax=ax[3, 0])\n",
    "lp.plot('emitx_tr', 'emity_tr', ax=ax[3, 1])"
   ]
  },
  {
   "cell_type": "code",
   "execution_count": null,
   "metadata": {},
   "outputs": [],
   "source": []
  }
 ],
 "metadata": {
  "kernelspec": {
   "display_name": "liso",
   "language": "python",
   "name": "liso"
  },
  "language_info": {
   "codemirror_mode": {
    "name": "ipython",
    "version": 3
   },
   "file_extension": ".py",
   "mimetype": "text/x-python",
   "name": "python",
   "nbconvert_exporter": "python",
   "pygments_lexer": "ipython3",
   "version": "3.6.10"
  }
 },
 "nbformat": 4,
 "nbformat_minor": 4
}
