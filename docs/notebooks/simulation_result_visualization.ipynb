{
 "cells": [
  {
   "cell_type": "code",
   "execution_count": null,
   "metadata": {},
   "outputs": [],
   "source": [
    "try:\n",
    "    import matplotlib.pyplot as plt\n",
    "except ModuleNotFoundError:\n",
    "    !pip install matplotlib\n",
    "\n",
    "%matplotlib inline    \n",
    "    \n",
    "from liso import parse_astra_phasespace, parse_astra_line\n",
    "from liso.visualization import LinePlot, PhasespacePlot"
   ]
  },
  {
   "cell_type": "code",
   "execution_count": null,
   "metadata": {},
   "outputs": [],
   "source": [
    "!ls --all ../../liso/tests/files4test"
   ]
  },
  {
   "cell_type": "code",
   "execution_count": null,
   "metadata": {},
   "outputs": [],
   "source": [
    "data, charge = parse_astra_phasespace(\"../../liso/tests/files4test/astra.out\")"
   ]
  },
  {
   "cell_type": "code",
   "execution_count": null,
   "metadata": {},
   "outputs": [],
   "source": [
    "fig, ax = plt.subplots(2, 2, figsize=(12, 12))\n",
    "plt.subplots_adjust(bottom=0.1, top=0.9, left=0.1, right=0.9, hspace=0.3, wspace=0.3)\n",
    "\n",
    "ps = PhasespacePlot(data, charge)\n",
    "ps.scatter('x', 'y', ax=ax[0, 0])\n",
    "ps.scatter('x', 'xp', ax=ax[0, 1])\n",
    "ps.scatter('y', 'yp', ax=ax[1, 0])\n",
    "ps.scatter('t', 'delta', x_unit='ps', ax=ax[1, 1])"
   ]
  },
  {
   "cell_type": "code",
   "execution_count": null,
   "metadata": {},
   "outputs": [],
   "source": [
    "ps = PhasespacePlot(data, charge)\n",
    "ps.cloud('t', 'delta')"
   ]
  },
  {
   "cell_type": "code",
   "execution_count": null,
   "metadata": {},
   "outputs": [],
   "source": [
    "data = parse_astra_line(\"../../examples/astra_injector/injector\")"
   ]
  },
  {
   "cell_type": "code",
   "execution_count": null,
   "metadata": {},
   "outputs": [],
   "source": [
    "line = LinePlot(data, figsize=(16, 4))\n",
    "line.plot('gamma')\n",
    "\n",
    "fig, ax = plt.subplots(4, 2, figsize=(16, 16))\n",
    "plt.subplots_adjust(bottom=0.1, top=0.9, left=0.1, right=0.9, hspace=0.30, wspace=0.25)\n",
    "line.plot('Sz', ax=ax[0, 0])\n",
    "line.plot('St', ax=ax[0, 1])\n",
    "line.plot('Sde', ax=ax[1, 0])\n",
    "line.plot('Sx', 'Sy', ax=ax[1, 1])\n",
    "line.plot('betax', 'betay', ax=ax[2, 0])\n",
    "line.plot('alphax', 'alphay', ax=ax[2, 1])\n",
    "line.plot('emitx', 'emity', ax=ax[3, 0])\n",
    "line.plot('emitx_tr', 'emity_tr', ax=ax[3, 1])"
   ]
  }
 ],
 "metadata": {
  "kernelspec": {
   "display_name": "liso-gym",
   "language": "python",
   "name": "liso-gym"
  },
  "language_info": {
   "codemirror_mode": {
    "name": "ipython",
    "version": 3
   },
   "file_extension": ".py",
   "mimetype": "text/x-python",
   "name": "python",
   "nbconvert_exporter": "python",
   "pygments_lexer": "ipython3",
   "version": "3.7.8"
  }
 },
 "nbformat": 4,
 "nbformat_minor": 4
}
